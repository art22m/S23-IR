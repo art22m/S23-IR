{
 "cells": [
  {
   "cell_type": "markdown",
   "id": "1b1f94b9-7b73-4748-9286-d786a69bdf71",
   "metadata": {},
   "source": [
    "# 1. Assessor and analyst work\n",
    "\n",
    "## 1.0. Rating and criteria\n",
    "\n",
    "Please [open this document](https://static.googleusercontent.com/media/guidelines.raterhub.com/en//searchqualityevaluatorguidelines.pdf)\n",
    "and study chapters 13.0-13.4. Your task will be to assess the organic answers of search engines given the same query.\n",
    "\n",
    "## 1.1. Explore the page\n",
    "\n",
    "For the following search engines:\n",
    "- https://duckduckgo.com/\n",
    "- https://www.bing.com/\n",
    "- https://ya.ru/\n",
    "- https://www.google.com/\n",
    "\n",
    "Perform the same query: \"**How to get from Kazan to Voronezh**\".\n",
    "\n",
    "Discuss with your TA the following:\n",
    "1. Which elements you may identify at SERP? Ads, snippets, blends from other sources, ...?\n",
    "2. Where are organic results? How many of them are there?\n",
    "\n",
    "## 1.2. Rate the results of the search engine\n",
    "\n",
    "If there are many of you in the group, assess all search engines, otherwise choose 1 or 2. There should be no less than 5 of your for each search engine. Use the scale from the handbook, use 0..4 numerical equivalents for `[FailsM, SM, MM, HM, FullyM]`. \n",
    "\n",
    "Compute:\n",
    "- average relevance and standard deviation for each SERP element.\n",
    "- [Fleiss kappa score](https://en.wikipedia.org/wiki/Fleiss%27_kappa#Worked_example) for your group. Use [this implementation](https://www.statsmodels.org/dev/generated/statsmodels.stats.inter_rater.fleiss_kappa.html).\n",
    "- [Kendall rank coefficient](https://en.wikipedia.org/wiki/Kendall_rank_correlation_coefficient) for some pairs in your group. Use [this implementation](https://docs.scipy.org/doc/scipy/reference/generated/scipy.stats.kendalltau.html).\n",
    "\n",
    "Discuss numerical results. Did you agree on the relevance? Did you agree on the rank? What is the difference?"
   ]
  },
  {
   "cell_type": "code",
   "execution_count": 19,
   "id": "3c3738c6-ed54-4113-b75a-cba812c5aade",
   "metadata": {},
   "outputs": [],
   "source": [
    "import numpy as np\n",
    "# example input by users\n",
    "ranking_data = np.array([\n",
    "    [4, 4, 4, 4, 4, 4, 4, 4, 4, 4], # assessor 1 relevance\n",
    "    [4, 2, 3, 3, 2, 2, 2, 2, 3, 2], # 2\n",
    "    [4, 4, 4, 2, 3, 2, 3, 2, 2, 2],\n",
    "    [4, 4, 4, 3, 4, 3, 3, 3, 3, 4],\n",
    "    [4, 2, 4, 4, 4, 4, 4, 3, 4, 0],\n",
    "    [4, 1, 4, 4, 1, 3, 3, 2, 4, 2],\n",
    "    [4, 2, 4, 4, 3, 2, 2, 2, 2, 2],\n",
    "    [4, 2, 4, 3, 2, 4, 2, 2, 4, 2],\n",
    "    [4, 4, 4, 3, 4, 3, 4, 3, 3, 0],\n",
    "    [4, 4, 4, 2, 4, 4, 3, 0, 3, 2],\n",
    "    [4, 4, 4, 3, 2, 2, 2, 2, 2, 2],\n",
    "    [4, 2, 4, 3, 3, 3, 3, 2, 3, 2],\n",
    "    [4, 4, 4, 2, 2, 2, 2, 1, 1, 1],\n",
    "])"
   ]
  },
  {
   "cell_type": "markdown",
   "id": "32a88b0e-5ece-404c-9fc2-82c4d1bb3281",
   "metadata": {},
   "source": [
    "Averages ang standard deviations per item."
   ]
  },
  {
   "cell_type": "code",
   "execution_count": 9,
   "id": "59c53e3e-120f-45ec-94c1-f02d061f0177",
   "metadata": {},
   "outputs": [
    {
     "name": "stdout",
     "output_type": "stream",
     "text": [
      "[(4.0, 0.0), (3.0, 1.1094003924504583), (3.923076923076923, 0.2664693550105965), (3.076923076923077, 0.7297563831157798), (2.923076923076923, 0.997037030524286), (2.923076923076923, 0.8284868934053083), (2.8461538461538463, 0.7692307692307693), (2.1538461538461537, 0.9483713850721502), (2.923076923076923, 0.9166442529086912), (1.9230769230769231, 1.1409536133993328)]\n"
     ]
    }
   ],
   "source": [
    "import math \n",
    "\n",
    "res = []\n",
    "for i in range(len(ranking_data[0])):\n",
    "    sum = 0\n",
    "    for j in range(len(ranking_data)):\n",
    "        sum += ranking_data[j][i]\n",
    "        \n",
    "    mean = sum / len(ranking_data)\n",
    "    \n",
    "    sum = 0\n",
    "    for j in range(len(ranking_data)):\n",
    "        term = ranking_data[j][i] - mean\n",
    "        sum += term * term\n",
    "    \n",
    "    std = math.sqrt(sum / len(ranking_data))\n",
    "    res.append((mean, std))\n",
    "        \n",
    "print(res)"
   ]
  },
  {
   "cell_type": "markdown",
   "id": "70a88642-87aa-42c1-b913-83eb9b22d973",
   "metadata": {},
   "source": [
    "Fleiss kappa score"
   ]
  },
  {
   "cell_type": "code",
   "execution_count": 12,
   "id": "06e63c2c-090d-4da1-b0b8-45ec2538e635",
   "metadata": {},
   "outputs": [],
   "source": [
    "#!pip install s tatsmodels"
   ]
  },
  {
   "cell_type": "code",
   "execution_count": 27,
   "id": "6cb6cbb6-7768-42f0-aed3-215488d15bc2",
   "metadata": {},
   "outputs": [
    {
     "name": "stdout",
     "output_type": "stream",
     "text": [
      "[[ 0  0  0  0 13]\n",
      " [ 0  1  5  0  7]\n",
      " [ 0  0  0  1 12]\n",
      " [ 0  0  3  6  4]\n",
      " [ 0  1  4  3  5]\n",
      " [ 0  0  5  4  4]\n",
      " [ 0  0  5  5  3]\n",
      " [ 1  1  7  3  1]\n",
      " [ 0  1  3  5  4]\n",
      " [ 2  1  8  0  2]]\n",
      "[0 1 2 3 4]\n",
      "0.1643502432244614\n"
     ]
    }
   ],
   "source": [
    "from statsmodels.stats.inter_rater import aggregate_raters, fleiss_kappa\n",
    "tr = ranking_data.T\n",
    "\n",
    "ar, cl = aggregate_raters(tr)\n",
    "fk = fleiss_kappa(ar)\n",
    "print(ar)\n",
    "print(cl)\n",
    "print(fk)"
   ]
  },
  {
   "cell_type": "markdown",
   "id": "3bd6069e-e8a1-4483-b1f2-bf5f4e982283",
   "metadata": {},
   "source": [
    "Kendall tau score is pairwise. Compare one to another."
   ]
  },
  {
   "cell_type": "code",
   "execution_count": 29,
   "id": "6e7f5f22-74a4-47cd-848a-09c8e1abb39c",
   "metadata": {},
   "outputs": [
    {
     "name": "stdout",
     "output_type": "stream",
     "text": [
      "0 1 KendalltauResult(correlation=nan, pvalue=nan)\n",
      "1 2 KendalltauResult(correlation=0.20739033894608505, pvalue=0.49841635220157854)\n",
      "2 3 KendalltauResult(correlation=0.6465790872963897, pvalue=0.04125001659393949)\n",
      "3 4 KendalltauResult(correlation=-0.28577380332470415, pvalue=0.36836447825890395)\n",
      "4 5 KendalltauResult(correlation=0.5443310539518175, pvalue=0.06285135804535168)\n",
      "5 6 KendalltauResult(correlation=0.4169751944147297, pvalue=0.159503942345546)\n",
      "6 7 KendalltauResult(correlation=0.3931079294405248, pvalue=0.2061280020855033)\n",
      "7 8 KendalltauResult(correlation=0.0, pvalue=1.0)\n",
      "8 9 KendalltauResult(correlation=0.6141827746434741, pvalue=0.040531251037785)\n"
     ]
    }
   ],
   "source": [
    "from scipy.stats import kendalltau\n",
    "\n",
    "for i in range(9):\n",
    "    print(i, i + 1, kendalltau(ranking_data[i], ranking_data[i + 1]))"
   ]
  },
  {
   "cell_type": "markdown",
   "id": "9eed044a-9a49-432d-b7a6-7591087d0de7",
   "metadata": {},
   "source": [
    "# 2. Engineer work\n",
    "\n",
    "You will create a bucket of URLs which are relevant for the query **\"free cloud git\"**. Then you will automate the search procedure using https://serpapi.com/, or https://developers.google.com/custom-search/v1/overview, or whatever.\n",
    "\n",
    "Then you will compute MRR@10 and Precision@10.\n",
    "\n",
    "## 2.1. Build your bucket here"
   ]
  },
  {
   "cell_type": "code",
   "execution_count": 30,
   "id": "e11aa566-0ab3-48d7-959c-ab6cb875d7ac",
   "metadata": {},
   "outputs": [],
   "source": [
    "rel_bucket = [\n",
    "    \"github.com\",\n",
    "    \"bitbucket.org\",\n",
    "    \"gitpod.io\",\n",
    "    \"gitlab.com\",\n",
    "    \"azure.microsoft.com\",\n",
    "    \"gitea.io\",\n",
    "    \"sourceforge.net\",\n",
    "    \"codebasehq.com\",\n",
    "    \"source.cloud.google.com\",\n",
    "]\n",
    "\n",
    "query = \"free git cloud\""
   ]
  },
  {
   "cell_type": "markdown",
   "id": "d501aa5e-7051-4039-930b-b293c49721e1",
   "metadata": {},
   "source": [
    "## 2.2. Relevance assessment\n",
    "\n",
    "Write the code to check that the obtained document is relevant (True) or not (False)."
   ]
  },
  {
   "cell_type": "code",
   "execution_count": 31,
   "id": "450a610f-c121-4781-8719-1dcfd4892625",
   "metadata": {},
   "outputs": [],
   "source": [
    "def is_rel(resp_url):\n",
    "    return resp_url in rel_bucket"
   ]
  },
  {
   "cell_type": "markdown",
   "id": "5c3c2ea8-19c1-44b5-8fc2-fa4e23182dae",
   "metadata": {},
   "source": [
    "## 2.3. Automation\n",
    "\n",
    "Get search results from the automation tool you use."
   ]
  },
  {
   "cell_type": "code",
   "execution_count": 36,
   "id": "434e58a5-77a8-4d54-a495-8540361f6df7",
   "metadata": {},
   "outputs": [
    {
     "ename": "ModuleNotFoundError",
     "evalue": "No module named 'BeautifulSoup'",
     "output_type": "error",
     "traceback": [
      "\u001b[0;31m---------------------------------------------------------------------------\u001b[0m",
      "\u001b[0;31mModuleNotFoundError\u001b[0m                       Traceback (most recent call last)",
      "Input \u001b[0;32mIn [36]\u001b[0m, in \u001b[0;36m<module>\u001b[0;34m\u001b[0m\n\u001b[1;32m      1\u001b[0m \u001b[38;5;28;01mimport\u001b[39;00m \u001b[38;5;21;01mrequests\u001b[39;00m\n\u001b[0;32m----> 2\u001b[0m \u001b[38;5;28;01mimport\u001b[39;00m \u001b[38;5;21;01mBeautifulSoup\u001b[39;00m\n\u001b[1;32m      3\u001b[0m url \u001b[38;5;241m=\u001b[39m \u001b[38;5;124m\"\u001b[39m\u001b[38;5;124mhttp://google.com/search?client=safari&rls=en&q=Google+Search+api&ie=UTF-8&oe=UTF-8\u001b[39m\u001b[38;5;124m\"\u001b[39m\n\u001b[1;32m      4\u001b[0m doc \u001b[38;5;241m=\u001b[39m requests\u001b[38;5;241m.\u001b[39mget(url)\u001b[38;5;241m.\u001b[39mcontent\n",
      "\u001b[0;31mModuleNotFoundError\u001b[0m: No module named 'BeautifulSoup'"
     ]
    }
   ],
   "source": [
    "import requests\n",
    "import BeautifulSoup\n",
    "url = \"http://google.com/search?client=safari&rls=en&q=Google+Search+api&ie=UTF-8&oe=UTF-8\"\n",
    "doc = requests.get(url).content\n",
    "\n",
    "soup = BeautifulSoup(doc)\n",
    "# Your code here\n",
    "rels = []\n",
    "\n",
    "print(soup)"
   ]
  },
  {
   "cell_type": "code",
   "execution_count": 75,
   "id": "70849db7-918b-4b17-b045-3a5a06927936",
   "metadata": {},
   "outputs": [
    {
     "data": {
      "text/plain": [
       "[0, 1, 0, 1, 1, 0, 0, 1, 0, 0]"
      ]
     },
     "execution_count": 75,
     "metadata": {},
     "output_type": "execute_result"
    }
   ],
   "source": [
    "rels"
   ]
  },
  {
   "cell_type": "markdown",
   "id": "285eb724-2188-45d3-be78-cffb91bacee8",
   "metadata": {},
   "source": [
    "## 2.4. MRR\n",
    "\n",
    "Compute MRR:"
   ]
  },
  {
   "cell_type": "code",
   "execution_count": null,
   "id": "33c40e3b-24d2-4c7b-860e-d543c1281f01",
   "metadata": {},
   "outputs": [],
   "source": [
    "def mrr(list_of_lists, k=10):\n",
    "    # todo your code here\n",
    "    return 0."
   ]
  },
  {
   "cell_type": "code",
   "execution_count": null,
   "id": "e64c4e28-9ae7-4715-96a2-adfa13c5b00b",
   "metadata": {},
   "outputs": [],
   "source": [
    "mrr([rels]) # BTW, why do I wrap the list into additional brackets? :)"
   ]
  },
  {
   "cell_type": "markdown",
   "id": "d644d32d-3d15-4d81-b3b5-396af0e85dd1",
   "metadata": {},
   "source": [
    "## 2.5. Precision\n",
    "Compute mean precision:"
   ]
  },
  {
   "cell_type": "code",
   "execution_count": null,
   "id": "5be58a4a-deeb-48cd-9f81-cae0be9a8493",
   "metadata": {},
   "outputs": [],
   "source": [
    "def mp(list_of_lists, k=10):\n",
    "    # todo your code here\n",
    "    return 0."
   ]
  },
  {
   "cell_type": "code",
   "execution_count": null,
   "id": "1d3fbb74-9b3d-46a2-98d9-4a8894c8e8b7",
   "metadata": {},
   "outputs": [],
   "source": [
    "mp([rels])"
   ]
  }
 ],
 "metadata": {
  "kernelspec": {
   "display_name": "Python 3 (ipykernel)",
   "language": "python",
   "name": "python3"
  },
  "language_info": {
   "codemirror_mode": {
    "name": "ipython",
    "version": 3
   },
   "file_extension": ".py",
   "mimetype": "text/x-python",
   "name": "python",
   "nbconvert_exporter": "python",
   "pygments_lexer": "ipython3",
   "version": "3.9.16"
  },
  "toc": {
   "base_numbering": 1,
   "nav_menu": {},
   "number_sections": true,
   "sideBar": true,
   "skip_h1_title": false,
   "title_cell": "Table of Contents",
   "title_sidebar": "Contents",
   "toc_cell": false,
   "toc_position": {},
   "toc_section_display": true,
   "toc_window_display": false
  }
 },
 "nbformat": 4,
 "nbformat_minor": 5
}
