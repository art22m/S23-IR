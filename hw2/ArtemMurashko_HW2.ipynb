{
 "cells": [
  {
   "cell_type": "markdown",
   "metadata": {},
   "source": [
    "# 1. Measure and improve\n",
    "Murashko Artem SD20-01 | ar.murashko@innopolis.university\n",
    "\n",
    "--------------------"
   ]
  },
  {
   "cell_type": "markdown",
   "metadata": {},
   "source": [
    "How do we know that search engine's quality improved (or at least haven't deteriorated) because of our changes?\n",
    "\n",
    "All we need is a way to ***evaluate*** our search engine. We will consider some of the popular evaluation techniques:\n",
    "\n",
    "1. Mean Average Precision\n",
    "2. 11-Point Interpolated Average\n",
    "3. Normalized Discounted Cumulative Gain (NDCG)\n",
    "4. pFound\n",
    "\n",
    "<!--We will apply them in the context of ranking with language models and will compare two ways of smoothing: additive and Jelinek-Mercer smoothing.\n",
    "-->\n",
    "\n",
    "It's best to go through the [book](https://nlp.stanford.edu/IR-book/pdf/irbookonlinereading.pdf) *chapter 8*, concretely, *8.4* to understand the key concepts of this lab. Here we will only present some excerpts from it."
   ]
  },
  {
   "cell_type": "markdown",
   "metadata": {},
   "source": [
    "## Imports"
   ]
  },
  {
   "cell_type": "code",
   "execution_count": 1,
   "metadata": {},
   "outputs": [],
   "source": [
    "import math \n",
    "\n",
    "import numpy as np\n",
    "import matplotlib.pyplot as plt"
   ]
  },
  {
   "cell_type": "markdown",
   "metadata": {},
   "source": [
    "## 1.1. [10] Mean Average Precision\n",
    "\n",
    "The most standard metric among the TREC community is *Mean Average Precision* *(MAP)*, which provides a single-figure measure of quality across recall levels. Among evaluation measures, MAP has been shown to have especially good discrimination and stability. For a single information need, Average Precision is the average of the precision value obtained for the set of top $k$ documents existing\n",
    "after each relevant document is retrieved, and this value is then averaged over information needs (queries). \n",
    "Assume we have a bucket $Q$ of queries $q_j\\in Q$.\n",
    "If the set of **relevant documents** for an information need (query) $q_j$ is {d<sub>1</sub>, . . . d<sub>m<sub>j</sub></sub>} and R<sub>jk</sub> is the set of ranked retrieval results from the top result until you get to document d<sub>k</sub>, then\n",
    "\n",
    "![](https://i.imgur.com/EGQMHVq.png)\n",
    "\n",
    "Implement this metric in the `mean_avg_precision` function.\n",
    "\n",
    "**NB** Don't make the name of [the metric confuse you](https://towardsdatascience.com/breaking-down-mean-average-precision-map-ae462f623a52). *Average Precision* is the term, which corresponds to the area under precision-recall curve. It's computation is tricky. We suggest to start with implementing [$AveP$](https://en.wikipedia.org/wiki/Evaluation_measures_(information_retrieval)#Average_precision)."
   ]
  },
  {
   "cell_type": "code",
   "execution_count": 2,
   "metadata": {},
   "outputs": [],
   "source": [
    "def mean_avg_precision(search_results, relevance):\n",
    "    AP_sum = 0\n",
    "    for id, search_result in enumerate(search_results):\n",
    "        # Average Precision\n",
    "        AP = 0\n",
    "        \n",
    "        # Save all relevant docs id into set\n",
    "        relevant_ids = set([r[0] for r in relevance[id + 1]])\n",
    "        \n",
    "        # Calculate AP for the current search result\n",
    "        relevant_count = 0\n",
    "        total_count = 0\n",
    "        for doc_id in search_result:\n",
    "            is_relevant = 1 if doc_id in relevant_ids else 0\n",
    "\n",
    "            relevant_count += is_relevant\n",
    "            total_count += 1                \n",
    "            \n",
    "            # If current doc is not relevant, then is_relevant will be zero,\n",
    "            # so we will add zero to the AP. Otherwise, we will add precision\n",
    "            # of relevant document.\n",
    "            AP += relevant_count / total_count * is_relevant\n",
    "        \n",
    "        # To get actual average precision, we need to divide our sum of precisions\n",
    "        # of relevant docs by the number of relevant docs (e.g. the length of the set).\n",
    "        AP /= len(relevant_ids)\n",
    "\n",
    "        AP_sum += AP\n",
    "        \n",
    "    MAP = AP_sum / len(search_results)\n",
    "    return MAP"
   ]
  },
  {
   "cell_type": "markdown",
   "metadata": {},
   "source": [
    "### 1.1.1. Tests"
   ]
  },
  {
   "cell_type": "code",
   "execution_count": 3,
   "metadata": {},
   "outputs": [
    {
     "name": "stdout",
     "output_type": "stream",
     "text": [
      "map_test 0.6464285714285715\n"
     ]
    }
   ],
   "source": [
    "test_relevance = {1: [(9, 1), (1, 2), (8, 3)], 2: [(5, 1), (9, 2), (6, 3)], \n",
    "                  3: [(9, 1), (4, 2), (6, 3)], 4: [(10, 1), (4, 2), (7, 3)], \n",
    "                  5: [(4, 1), (2, 2), (8, 3)], 6: [(2, 1), (9, 2), (4, 3)], \n",
    "                  7: [(1, 1), (2, 2), (3, 3)], 8: [(3, 1), (2, 2), (6, 3)], \n",
    "                  9: [(1, 1), (4, 2), (3, 3)], 10: [(10, 1), (7, 2), (8, 3)]}\n",
    "test_results = [[4, 5, 3, 6, 1, 2, 8, 9, 10, 7], [7, 5, 6, 3, 1, 8, 9, 4, 2, 10], \n",
    "                [8, 3, 4, 5, 9, 6, 1, 10, 2, 7], [4, 5, 7, 3, 6, 10, 1, 9, 2, 8], \n",
    "                [4, 8, 3, 5, 6, 7, 2, 1, 10, 9], [9, 7, 6, 5, 2, 4, 10, 1, 3, 8], \n",
    "                [3, 1, 5, 2, 10, 6, 7, 9, 8, 4], [9, 2, 4, 10, 8, 3, 7, 6, 1, 5], \n",
    "                [3, 4, 6, 1, 5, 10, 7, 2, 8, 9], [8, 10, 4, 1, 3, 7, 5, 6, 9, 2]]\n",
    "\n",
    "\n",
    "map_test = mean_avg_precision(test_results, test_relevance)\n",
    "print(\"map_test\", map_test)\n",
    "assert np.isclose(map_test, 0.646, atol=1e-03)\n",
    "assert mean_avg_precision(test_results[:5], test_relevance) > mean_avg_precision(test_results[5:10], test_relevance)"
   ]
  },
  {
   "cell_type": "markdown",
   "metadata": {},
   "source": [
    "## 1.2. [15] 11-Point Interpolated Average\n",
    "\n",
    "In a ranked retrieval context, appropriate sets of retrieved documents are naturally given by the top k retrieved documents. For each such set, precision and recall values can be plotted to give a precision-recall curve, such as this one (blue line):\n",
    "\n",
    "![](https://i.imgur.com/QnvDLAJ.png)\n",
    "\n",
    "Precision-recall curves have a distinctive saw-tooth shape: if the *(k + 1)<sup>th</sup>* document retrieved is nonrelevant then recall is the same as for the top k documents, but precision has dropped. If it is relevant, then both precision and recall increase, and the curve jags up and to the right.\n",
    "\n",
    "It is often useful to remove these jiggles and the standard way to do this is with an *interpolated precision*: the interpolated precision *p<sub>interp</sub>* at a certain recall level *r* is defined as the highest precision found for any recall level *r′* ≥ *r*:\n",
    "\n",
    "![](https://i.imgur.com/GMl2rQw.png)\n",
    "\n",
    "The justification is that almost anyone would be prepared to look at a few more documents if it would increase the percentage of the viewed set that were relevant (that is, if the precision of the larger set is higher). Interpolated precision is shown by a red line in the figure above.\n",
    "\n",
    "Examining this information for a single query may be useful, but usually we are more interested in a composite metrics, which will score over all test queries. The traditional way of doing this is the *11-point interpolated average*. For each information need, the interpolated precision is measured at the 11 recall levels of 0.0, 0.1, 0.2, . . . , 1.0. Then we average interpolated precision over all queries in the test collection and plot, like here:\n",
    "\n",
    "![](https://i.imgur.com/6wDmtp2.png)\n",
    "\n",
    "\n",
    "Plotting a number of such graphs for different versions of search engine on the same plot helps to compare their performance.\n",
    "\n",
    "You need to incorporate this logic into `eleven_points_interpolated_avg` function. Break it down to subfuctions as it seems necessary to you."
   ]
  },
  {
   "cell_type": "code",
   "execution_count": 4,
   "metadata": {},
   "outputs": [],
   "source": [
    "def plot_curve(precisions, recalls):\n",
    "    plt.figure(figsize=(10,6))\n",
    "    \n",
    "    plt.xlabel(\"Recall\")\n",
    "    plt.ylabel(\"Precision\")\n",
    "    \n",
    "    plt.plot(recalls, precisions)\n",
    "    plt.show()\n",
    "\n",
    "def interpolate(precisions, recalls):\n",
    "    result = []\n",
    "    # Iterate through each recall out of eleven and find its precision\n",
    "    # using formula : pr_inter(recall) = max precisions(r), r >= recall\n",
    "    for recall in np.arange(start=0.0, stop=1.1, step=0.1):\n",
    "        max_precision = 0\n",
    "        for i in range(len(recalls)):\n",
    "            if recalls[i] >= recall:    \n",
    "                max_precision = max(max_precision, precisions[i])\n",
    "        \n",
    "        result.append(max_precision)\n",
    "    \n",
    "    return np.array(result)\n",
    "\n",
    "def eleven_points_interpolated_avg(search_results, relevance, plot=True):\n",
    "    interpolated_precisions = []\n",
    "    for id, search_result in enumerate(search_results):\n",
    "        # Save all relevant docs id into set\n",
    "        relevant_ids = set([r[0] for r in relevance[id + 1]])\n",
    "        total_relevants = len(relevant_ids)\n",
    "        \n",
    "        relevant_count = 0\n",
    "        current_count = 0\n",
    "        \n",
    "        precisions = []\n",
    "        recalls = []\n",
    "        for doc_id in search_result:\n",
    "            relevant_count += 1 if doc_id in relevant_ids else 0\n",
    "            current_count += 1                \n",
    "            \n",
    "            precisions.append(relevant_count / current_count)\n",
    "            recalls.append(relevant_count / total_relevants)\n",
    "        \n",
    "        interpolated_precision = interpolate(precisions, recalls)\n",
    "        interpolated_precisions.append(interpolated_precision)\n",
    "    \n",
    "    interpolated_precisions = np.array(interpolated_precisions)\n",
    "    interpolated_precisions_avg = []\n",
    "    \n",
    "    # Iterate through each point out of eleven and calculate avg precision in it\n",
    "    for i in range(11):\n",
    "        # Sum all the i'th precisions and divide by the number of search results (= len(interpolated_precisions))\n",
    "        precision_average = interpolated_precisions[:,i].sum() / len(interpolated_precisions)\n",
    "        interpolated_precisions_avg.append(precision_average)\n",
    "\n",
    "    if plot:\n",
    "        plot_curve(interpolated_precisions_avg, np.arange(start=0.0, stop=1.1, step=0.1))\n",
    "        \n",
    "    return interpolated_precisions_avg"
   ]
  },
  {
   "cell_type": "markdown",
   "metadata": {},
   "source": [
    "### 1.2.1.Tests"
   ]
  },
  {
   "cell_type": "code",
   "execution_count": 5,
   "metadata": {},
   "outputs": [
    {
     "data": {
      "image/png": "[encoded data removed]",
      "text/plain": [
       "<Figure size 720x432 with 1 Axes>"
      ]
     },
     "metadata": {
      "needs_background": "light"
     },
     "output_type": "display_data"
    }
   ],
   "source": [
    "eleven_test = eleven_points_interpolated_avg(test_results, test_relevance, plot=True)\n",
    "assert all(eleven_test[k] >= eleven_test[k+1] for k in range(len(eleven_test)-1))"
   ]
  },
  {
   "cell_type": "markdown",
   "metadata": {},
   "source": [
    "## 1.3. [10] Normalized Discounted Cumulative Gain\n",
    "\n",
    "NDCG metric is designed for situations of non-binary notions of relevance. It is evaluated over some number $k$ of top search results (in our case we will evaluate over the whole dataset, since it is small). \n",
    "\n",
    "For a set of queries $Q$, let $R(j,d)$ be the relevance score assessors gave to document $d$ for query $j$. Then,\n",
    "\n",
    "![](https://i.imgur.com/LLogCYa.png)\n",
    "\n",
    "where $Z_{kj}$ is a normalization factor calculated to make it so that a perfect ranking’s NDCG at $k$ for query $j$ is 1. In other words, we divide calculated DCG score by ideal DCG score. \n",
    "\n",
    "Implement this metric in `NDCG` function."
   ]
  },
  {
   "cell_type": "code",
   "execution_count": 6,
   "metadata": {
    "hide_input": false
   },
   "outputs": [],
   "source": [
    "# Discounted Cumulative Gain\n",
    "def DCG(relevance):\n",
    "    DCG = 0\n",
    "    for i, r in enumerate(relevance, 1):            \n",
    "        DCG += (2 ** r - 1) / np.log2(i + 1)\n",
    "        \n",
    "    return DCG\n",
    "\n",
    "# Normalized Discounted Cumulative Gain\n",
    "def NDCG(search_results, relevance):\n",
    "    result = 0\n",
    "    for id, search_result in enumerate(search_results, 1): \n",
    "        # We need to calculate the inverted relevance to make scores\n",
    "        # 0 - not relevant, 1 - least relevant, 4 - most relevant\n",
    "        # Thus, make the default values equal to zero and subtract from 5\n",
    "        # the scores of relevant docs.\n",
    "        inverted_relevance = [0] * len(search_result)\n",
    "        for i, r in relevance[id]:\n",
    "            inverted_relevance[i - 1] = 5 - r\n",
    "        \n",
    "        # Arrange the relevance in the order of documents appearance in the search\n",
    "        relevance_in_order = [inverted_relevance[doc_id - 1] for doc_id in search_result]\n",
    "        \n",
    "        # Calculate Real Discounted Cumulative and Ideal Discounted Cumulative gains\n",
    "        real_DCG = DCG(relevance_in_order)\n",
    "        ideal_DCG = DCG(sorted(relevance_in_order, reverse=True))\n",
    "        \n",
    "        # Sum the ratios of real DCG score by ideal DCG scores\n",
    "        result += real_DCG / ideal_DCG\n",
    "\n",
    "    return result / len(search_results)"
   ]
  },
  {
   "cell_type": "markdown",
   "metadata": {},
   "source": [
    "### 1.3.1. Tests"
   ]
  },
  {
   "cell_type": "code",
   "execution_count": 7,
   "metadata": {},
   "outputs": [
    {
     "name": "stdout",
     "output_type": "stream",
     "text": [
      "ndcg_test 0.6409675295633275\n"
     ]
    }
   ],
   "source": [
    "# ndcg_test = testNDCG(test_results, test_relevance)\n",
    "# print(\"---\")\n",
    "ndcg_test = NDCG(test_results, test_relevance)\n",
    "print(\"ndcg_test\", ndcg_test)\n",
    "assert np.isclose(ndcg_test, 0.640, atol=1e-03)\n",
    "assert NDCG(test_results[:5], test_relevance) < NDCG(test_results[5:10], test_relevance)"
   ]
  },
  {
   "cell_type": "markdown",
   "metadata": {},
   "source": [
    "## 1.4. [15] pFound ## \n",
    "**pFound** -- ranking metric invented in [Yandex](http://romip.ru/romip2009/15_yandex.pdf). This metric models user behaviour when looking at the search engine representation page (SERP). Metric assumes a user is inspecting a list from the top to the bottom. There are 2 global parameters, controlling behaviour:\n",
    "- `pBreak` -- how probable, that the user will become tired and just quit at this position (`0.15` by default).\n",
    "- `pRel` -- how probable the user will click the document if this document is relevant (`0.4` by default for a relevan document, `0` is given to irrelevant).\n",
    "\n",
    "Then, to compute pFound for the exact page we do:\n",
    "\n",
    "$pLook_i = pLook_{i-1}*(1 - pBreak)*(1 - pRel_{i-1})$\n",
    "\n",
    "$pFound = \\sum_{i=1}^{N}pLook_i*pRel_i$\n",
    "\n",
    "Implement `pFound` below."
   ]
  },
  {
   "cell_type": "code",
   "execution_count": 8,
   "metadata": {},
   "outputs": [],
   "source": [
    "def pFound(search_results, relevance):    \n",
    "    # Constants\n",
    "    pBreak = 0.15\n",
    "    pRel = 0.4\n",
    "    \n",
    "    result = 0\n",
    "    for id, search_result in enumerate(search_results):\n",
    "        # Save all relevant docs id into set\n",
    "        relevant_ids = set([r[0] for r in relevance[id + 1]])\n",
    "        \n",
    "        # Calculate relevance for each doc\n",
    "        # pRel by default for a relevan document, otherwise 0\n",
    "        pRels = [pRel if doc_id in relevant_ids else 0 for doc_id in search_result]\n",
    "        \n",
    "        # pLook for the first element is 1.\n",
    "        # Others pLook's will be calculated later\n",
    "        pLook = [1] + [0] * (len(search_result) - 1)\n",
    "        \n",
    "        # Calculate pLook for the current search result docs\n",
    "        for i in range(1, len(search_result)):          \n",
    "            pLook[i] = pLook[i - 1] * (1 - pRels[i - 1]) * (1 - pBreak)\n",
    "        \n",
    "        # Calculate pFound for the current search result\n",
    "        pFound = 0\n",
    "        for i in range(len(search_result)):\n",
    "            pFound += pLook[i] * pRels[i]\n",
    "        \n",
    "        result += pFound\n",
    "\n",
    "    return result / len(search_results)"
   ]
  },
  {
   "cell_type": "markdown",
   "metadata": {},
   "source": [
    "### 1.4.1. Tests"
   ]
  },
  {
   "cell_type": "code",
   "execution_count": 9,
   "metadata": {},
   "outputs": [
    {
     "name": "stdout",
     "output_type": "stream",
     "text": [
      "pFound 0.5821558180674999\n"
     ]
    }
   ],
   "source": [
    "pFound_test = pFound(test_results, test_relevance)\n",
    "print(\"pFound\", pFound_test)\n",
    "assert np.isclose(pFound_test, 0.582, atol=1e-03)\n",
    "assert pFound(test_results[:5], test_relevance) > pFound(test_results[5:10], test_relevance)"
   ]
  }
 ],
 "metadata": {
  "kernelspec": {
   "display_name": "Python 3 (ipykernel)",
   "language": "python",
   "name": "python3"
  },
  "language_info": {
   "codemirror_mode": {
    "name": "ipython",
    "version": 3
   },
   "file_extension": ".py",
   "mimetype": "text/x-python",
   "name": "python",
   "nbconvert_exporter": "python",
   "pygments_lexer": "ipython3",
   "version": "3.9.16"
  },
  "toc": {
   "base_numbering": 1,
   "nav_menu": {},
   "number_sections": true,
   "sideBar": true,
   "skip_h1_title": false,
   "title_cell": "Table of Contents",
   "title_sidebar": "Contents",
   "toc_cell": false,
   "toc_position": {},
   "toc_section_display": true,
   "toc_window_display": false
  }
 },
 "nbformat": 4,
 "nbformat_minor": 4
}
